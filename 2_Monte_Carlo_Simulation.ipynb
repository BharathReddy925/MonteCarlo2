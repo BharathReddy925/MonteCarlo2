{
  "nbformat": 4,
  "nbformat_minor": 0,
  "metadata": {
    "colab": {
      "provenance": []
    },
    "kernelspec": {
      "name": "python3",
      "display_name": "Python 3"
    },
    "language_info": {
      "name": "python"
    }
  },
  "cells": [
    {
      "cell_type": "code",
      "execution_count": 16,
      "metadata": {
        "colab": {
          "base_uri": "https://localhost:8080/",
          "height": 345
        },
        "id": "zsJjKCMuGilC",
        "outputId": "3d72ae15-fdce-4911-bdbd-900ac653e9de"
      },
      "outputs": [
        {
          "output_type": "execute_result",
          "data": {
            "text/plain": [
              "0.25088"
            ]
          },
          "metadata": {},
          "execution_count": 16
        },
        {
          "output_type": "display_data",
          "data": {
            "text/plain": [
              "<Figure size 432x288 with 1 Axes>"
            ],
            "image/png": "[encoded data removed]"
          },
          "metadata": {
            "needs_background": "light"
          }
        }
      ],
      "source": [
        "\n",
        "import numpy as np\n",
        "import pandas as pd\n",
        "import math\n",
        "import matplotlib.pyplot as plt\n",
        "## number of Trails \n",
        "Trails = 100000\n",
        "output = pd.DataFrame()\n",
        "output['Trails'] = list(range(1,Trails+1))\n",
        "percentage = Trails*[None]\n",
        "count = 0\n",
        "for i in range(0, Trails):\n",
        "    random_draws = np.random.uniform(low=0, high=1, size=2)\n",
        "    a = min(random_draws)\n",
        "    b = abs(random_draws[0] - random_draws[1])\n",
        "    if((a<0.5) and (b<0.5) and (0.5 < a+b)):\n",
        "        count=count+1\n",
        "    percentage[i] = count / (i+1)\n",
        "output['percentage'] = percentage\n",
        "plt.plot(output['Trails'], output['percentage'] )\n",
        "plt.xlabel('Number of trials') \n",
        "plt.ylabel('Percentage of simulations where pieces can form a triangle')\n",
        "percentage[Trails-1]\n",
        "\n",
        "#As shown above,  the results of  probability are 1/4  that the three broken pieces can form a triangle.\n",
        "\n",
        "\n"
      ]
    },
    {
      "cell_type": "code",
      "source": [],
      "metadata": {
        "id": "7baVAO1zgK8i"
      },
      "execution_count": null,
      "outputs": []
    }
  ]
}